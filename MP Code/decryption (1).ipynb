{
  "cells": [
    {
      "cell_type": "code",
      "execution_count": null,
      "metadata": {
        "colab": {
          "base_uri": "https://localhost:8080/",
          "height": 668
        },
        "id": "7H79tL_Engra",
        "outputId": "8c09afe4-df45-4851-9c40-4bf0d1227e0d"
      },
      "outputs": [
        {
          "output_type": "stream",
          "name": "stdout",
          "text": [
            "Requirement already satisfied: cryptography in /usr/local/lib/python3.11/dist-packages (43.0.3)\n",
            "Collecting stegano\n",
            "  Downloading stegano-0.11.5-py3-none-any.whl.metadata (4.3 kB)\n",
            "Requirement already satisfied: pillow in /usr/local/lib/python3.11/dist-packages (11.1.0)\n",
            "Requirement already satisfied: scikit-learn in /usr/local/lib/python3.11/dist-packages (1.6.1)\n",
            "Requirement already satisfied: cffi>=1.12 in /usr/local/lib/python3.11/dist-packages (from cryptography) (1.17.1)\n",
            "Collecting crayons>=0.4.0 (from stegano)\n",
            "  Downloading crayons-0.4.0-py2.py3-none-any.whl.metadata (2.8 kB)\n",
            "Requirement already satisfied: opencv-python>=4.8.1.78 in /usr/local/lib/python3.11/dist-packages (from stegano) (4.11.0.86)\n",
            "Collecting piexif>=1.1.3 (from stegano)\n",
            "  Downloading piexif-1.1.3-py2.py3-none-any.whl.metadata (3.7 kB)\n",
            "Collecting pillow\n",
            "  Downloading pillow-10.4.0-cp311-cp311-manylinux_2_28_x86_64.whl.metadata (9.2 kB)\n",
            "Requirement already satisfied: numpy>=1.19.5 in /usr/local/lib/python3.11/dist-packages (from scikit-learn) (2.0.2)\n",
            "Requirement already satisfied: scipy>=1.6.0 in /usr/local/lib/python3.11/dist-packages (from scikit-learn) (1.14.1)\n",
            "Requirement already satisfied: joblib>=1.2.0 in /usr/local/lib/python3.11/dist-packages (from scikit-learn) (1.4.2)\n",
            "Requirement already satisfied: threadpoolctl>=3.1.0 in /usr/local/lib/python3.11/dist-packages (from scikit-learn) (3.6.0)\n",
            "Requirement already satisfied: pycparser in /usr/local/lib/python3.11/dist-packages (from cffi>=1.12->cryptography) (2.22)\n",
            "Collecting colorama (from crayons>=0.4.0->stegano)\n",
            "  Downloading colorama-0.4.6-py2.py3-none-any.whl.metadata (17 kB)\n",
            "Downloading stegano-0.11.5-py3-none-any.whl (28 kB)\n",
            "Downloading pillow-10.4.0-cp311-cp311-manylinux_2_28_x86_64.whl (4.5 MB)\n",
            "\u001b[2K   \u001b[90m━━━━━━━━━━━━━━━━━━━━━━━━━━━━━━━━━━━━━━━━\u001b[0m \u001b[32m4.5/4.5 MB\u001b[0m \u001b[31m43.5 MB/s\u001b[0m eta \u001b[36m0:00:00\u001b[0m\n",
            "\u001b[?25hDownloading crayons-0.4.0-py2.py3-none-any.whl (4.6 kB)\n",
            "Downloading piexif-1.1.3-py2.py3-none-any.whl (20 kB)\n",
            "Downloading colorama-0.4.6-py2.py3-none-any.whl (25 kB)\n",
            "Installing collected packages: pillow, piexif, colorama, crayons, stegano\n",
            "  Attempting uninstall: pillow\n",
            "    Found existing installation: pillow 11.1.0\n",
            "    Uninstalling pillow-11.1.0:\n",
            "      Successfully uninstalled pillow-11.1.0\n",
            "Successfully installed colorama-0.4.6 crayons-0.4.0 piexif-1.1.3 pillow-10.4.0 stegano-0.11.5\n"
          ]
        },
        {
          "output_type": "display_data",
          "data": {
            "application/vnd.colab-display-data+json": {
              "pip_warning": {
                "packages": [
                  "PIL"
                ]
              },
              "id": "d4a8497712954bff9a17812f8b8734b4"
            }
          },
          "metadata": {}
        }
      ],
      "source": [
        "pip install cryptography stegano pillow scikit-learn"
      ]
    },
    {
      "cell_type": "code",
      "execution_count": null,
      "metadata": {
        "colab": {
          "base_uri": "https://localhost:8080/"
        },
        "id": "IW4JHF8kr6B_",
        "outputId": "b27e5a8a-66fb-4293-99fa-a11a6aaa7228"
      },
      "outputs": [
        {
          "output_type": "stream",
          "name": "stdout",
          "text": [
            "Mounted at /content/drive\n"
          ]
        }
      ],
      "source": [
        "from google.colab import drive\n",
        "drive.mount('/content/drive')"
      ]
    },
    {
      "cell_type": "code",
      "execution_count": null,
      "metadata": {
        "colab": {
          "base_uri": "https://localhost:8080/"
        },
        "id": "ERJJrgLUnnJB",
        "outputId": "a1660efe-79f1-48f0-e64d-58d9e8811c38"
      },
      "outputs": [
        {
          "output_type": "stream",
          "name": "stdout",
          "text": [
            "Enter the encrypted secure key: abababab\n",
            "\n",
            "Checking image: /content/drive/MyDrive/New folder/pushpa.jpg\n",
            "\n",
            "Checking image: /content/drive/MyDrive/New folder/devara.jpeg\n",
            "\n",
            "Decrypting the secure key...\n",
            "Enter the secondary password to decrypt the key: ··········\n",
            "Incorrect password. Hidden message will be erased.\n",
            "Hidden message erased from image: /content/drive/MyDrive/New folder/devara.jpeg\n"
          ]
        }
      ],
      "source": [
        "import os\n",
        "import base64\n",
        "import getpass\n",
        "from cryptography.fernet import Fernet, InvalidToken\n",
        "from stegano import lsb\n",
        "from PIL import Image\n",
        "\n",
        "# Function to create a valid encryption key from input\n",
        "def create_key_from_input(user_key):\n",
        "    key_bytes = user_key.encode()\n",
        "    padded_key = base64.urlsafe_b64encode(key_bytes.ljust(32)[:32])\n",
        "    return padded_key\n",
        "\n",
        "# Function to decrypt a message\n",
        "def decrypt_message(secret_key, encrypted_message):\n",
        "    cipher_suite = Fernet(secret_key)\n",
        "    return cipher_suite.decrypt(encrypted_message).decode()\n",
        "\n",
        "# Function to extract a hidden message from an image\n",
        "def extract_message(image_path):\n",
        "    try:\n",
        "        return lsb.reveal(image_path)\n",
        "    except Exception:\n",
        "        return None\n",
        "\n",
        "# Function to erase the hidden message by resetting the image\n",
        "def erase_message(image_path):\n",
        "    try:\n",
        "        # Reload the image and save it without steganographic content\n",
        "        with Image.open(image_path) as img:\n",
        "            img = img.convert(\"RGB\")\n",
        "            img.save(image_path)\n",
        "        print(f\"Hidden message erased from image: {image_path}\")\n",
        "    except Exception as e:\n",
        "        print(f\"Error erasing the message: {e}\")\n",
        "\n",
        "# Function to decrypt the secure key with a secondary password\n",
        "def decrypt_secure_key(encrypted_key, image_path):\n",
        "    print(\"\\nDecrypting the secure key...\")\n",
        "    secondary_password = getpass.getpass(\"Enter the secondary password to decrypt the key: \").strip()\n",
        "    if len(secondary_password) < 8:\n",
        "        print(\"The password must be at least 8 characters long.\")\n",
        "        erase_message(image_path)\n",
        "        return None\n",
        "    encryption_key = create_key_from_input(secondary_password)\n",
        "    try:\n",
        "        decrypted_key = decrypt_message(encryption_key, encrypted_key)\n",
        "        print(\"Secure key successfully decrypted.\")\n",
        "        return decrypted_key\n",
        "    except InvalidToken:\n",
        "        print(\"Incorrect password. Hidden message will be erased.\")\n",
        "        erase_message(image_path)\n",
        "        return None\n",
        "\n",
        "# Main function for extracting and decrypting the secret message\n",
        "def main():\n",
        "    # Directory containing images\n",
        "    images_dir = \"/content/drive/MyDrive/New folder\"\n",
        "    image_paths = [os.path.join(images_dir, file) for file in os.listdir(images_dir) if file.lower().endswith(('.png', '.jpg', '.jpeg', '.bmp', '.tiff'))]\n",
        "\n",
        "    if len(image_paths) < 1:\n",
        "        print(\"No images found in the 'images' directory. Add images to proceed.\")\n",
        "        return\n",
        "\n",
        "    # Prompt the user to input the encrypted key\n",
        "    encrypted_key_input = input(\"Enter the encrypted secure key: \").strip()\n",
        "    if not encrypted_key_input:\n",
        "        print(\"The encrypted key cannot be empty.\")\n",
        "        return\n",
        "\n",
        "    encrypted_key = encrypted_key_input.encode()\n",
        "\n",
        "    # Iterate through all images and check for a hidden message\n",
        "    for image_path in image_paths:\n",
        "        print(f\"\\nChecking image: {image_path}\")\n",
        "        hidden_message = extract_message(image_path)\n",
        "        if hidden_message:\n",
        "            secure_key = decrypt_secure_key(encrypted_key, image_path)\n",
        "            if not secure_key:\n",
        "                return  # Exit if the secure key decryption fails\n",
        "\n",
        "            try:\n",
        "                # Attempt to decrypt the hidden message\n",
        "                decrypted_message = decrypt_message(secure_key.encode(), hidden_message.encode())\n",
        "                print(\"\\nDecrypted Message Found: \", decrypted_message)\n",
        "                return\n",
        "            except InvalidToken:\n",
        "                print(\"Incorrect secure key. Unable to decrypt the hidden message.\")\n",
        "                erase_message(image_path)\n",
        "                return\n",
        "\n",
        "    print(\"No hidden message found or incorrect secure key provided.\")\n",
        "\n",
        "if __name__ == \"__main__\":\n",
        "    main()\n"
      ]
    },
    {
      "cell_type": "code",
      "execution_count": null,
      "metadata": {
        "id": "vDbEBCQksNT7"
      },
      "outputs": [],
      "source": []
    }
  ],
  "metadata": {
    "colab": {
      "provenance": []
    },
    "kernelspec": {
      "display_name": "Python 3",
      "name": "python3"
    },
    "language_info": {
      "name": "python"
    }
  },
  "nbformat": 4,
  "nbformat_minor": 0
}