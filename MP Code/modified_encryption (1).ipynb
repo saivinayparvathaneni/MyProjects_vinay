{
  "cells": [
    {
      "cell_type": "code",
      "execution_count": null,
      "id": "991cd474-4d34-46f9-9c16-97739e0a0014",
      "metadata": {
        "colab": {
          "base_uri": "https://localhost:8080/",
          "height": 668
        },
        "id": "991cd474-4d34-46f9-9c16-97739e0a0014",
        "outputId": "1d7e425a-c744-4f37-f327-b5060a16151b"
      },
      "outputs": [
        {
          "output_type": "stream",
          "name": "stdout",
          "text": [
            "Requirement already satisfied: cryptography in /usr/local/lib/python3.11/dist-packages (43.0.3)\n",
            "Collecting stegano\n",
            "  Downloading stegano-0.11.5-py3-none-any.whl.metadata (4.3 kB)\n",
            "Requirement already satisfied: pillow in /usr/local/lib/python3.11/dist-packages (11.1.0)\n",
            "Requirement already satisfied: scikit-learn in /usr/local/lib/python3.11/dist-packages (1.6.1)\n",
            "Requirement already satisfied: cffi>=1.12 in /usr/local/lib/python3.11/dist-packages (from cryptography) (1.17.1)\n",
            "Collecting crayons>=0.4.0 (from stegano)\n",
            "  Downloading crayons-0.4.0-py2.py3-none-any.whl.metadata (2.8 kB)\n",
            "Requirement already satisfied: opencv-python>=4.8.1.78 in /usr/local/lib/python3.11/dist-packages (from stegano) (4.11.0.86)\n",
            "Collecting piexif>=1.1.3 (from stegano)\n",
            "  Downloading piexif-1.1.3-py2.py3-none-any.whl.metadata (3.7 kB)\n",
            "Collecting pillow\n",
            "  Downloading pillow-10.4.0-cp311-cp311-manylinux_2_28_x86_64.whl.metadata (9.2 kB)\n",
            "Requirement already satisfied: numpy>=1.19.5 in /usr/local/lib/python3.11/dist-packages (from scikit-learn) (2.0.2)\n",
            "Requirement already satisfied: scipy>=1.6.0 in /usr/local/lib/python3.11/dist-packages (from scikit-learn) (1.14.1)\n",
            "Requirement already satisfied: joblib>=1.2.0 in /usr/local/lib/python3.11/dist-packages (from scikit-learn) (1.4.2)\n",
            "Requirement already satisfied: threadpoolctl>=3.1.0 in /usr/local/lib/python3.11/dist-packages (from scikit-learn) (3.6.0)\n",
            "Requirement already satisfied: pycparser in /usr/local/lib/python3.11/dist-packages (from cffi>=1.12->cryptography) (2.22)\n",
            "Collecting colorama (from crayons>=0.4.0->stegano)\n",
            "  Downloading colorama-0.4.6-py2.py3-none-any.whl.metadata (17 kB)\n",
            "Downloading stegano-0.11.5-py3-none-any.whl (28 kB)\n",
            "Downloading pillow-10.4.0-cp311-cp311-manylinux_2_28_x86_64.whl (4.5 MB)\n",
            "\u001b[2K   \u001b[90m━━━━━━━━━━━━━━━━━━━━━━━━━━━━━━━━━━━━━━━━\u001b[0m \u001b[32m4.5/4.5 MB\u001b[0m \u001b[31m27.7 MB/s\u001b[0m eta \u001b[36m0:00:00\u001b[0m\n",
            "\u001b[?25hDownloading crayons-0.4.0-py2.py3-none-any.whl (4.6 kB)\n",
            "Downloading piexif-1.1.3-py2.py3-none-any.whl (20 kB)\n",
            "Downloading colorama-0.4.6-py2.py3-none-any.whl (25 kB)\n",
            "Installing collected packages: pillow, piexif, colorama, crayons, stegano\n",
            "  Attempting uninstall: pillow\n",
            "    Found existing installation: pillow 11.1.0\n",
            "    Uninstalling pillow-11.1.0:\n",
            "      Successfully uninstalled pillow-11.1.0\n",
            "Successfully installed colorama-0.4.6 crayons-0.4.0 piexif-1.1.3 pillow-10.4.0 stegano-0.11.5\n"
          ]
        },
        {
          "output_type": "display_data",
          "data": {
            "application/vnd.colab-display-data+json": {
              "pip_warning": {
                "packages": [
                  "PIL"
                ]
              },
              "id": "b6f26c760f82461c9c69047a0540397e"
            }
          },
          "metadata": {}
        }
      ],
      "source": [
        "pip install cryptography stegano pillow scikit-learn"
      ]
    },
    {
      "cell_type": "code",
      "execution_count": null,
      "id": "cUzz1L8vBl8P",
      "metadata": {
        "colab": {
          "base_uri": "https://localhost:8080/"
        },
        "id": "cUzz1L8vBl8P",
        "outputId": "2022c328-57fe-4e70-d384-434ed804bab6"
      },
      "outputs": [
        {
          "output_type": "stream",
          "name": "stdout",
          "text": [
            "Mounted at /content/drive\n"
          ]
        }
      ],
      "source": [
        "from google.colab import drive\n",
        "drive.mount('/content/drive')"
      ]
    },
    {
      "cell_type": "code",
      "execution_count": null,
      "id": "76c19cd5-22af-4d2c-8aec-d53d3888530f",
      "metadata": {
        "colab": {
          "base_uri": "https://localhost:8080/"
        },
        "id": "76c19cd5-22af-4d2c-8aec-d53d3888530f",
        "outputId": "d715725f-4585-4755-9bed-77102eebe139"
      },
      "outputs": [
        {
          "output_type": "stream",
          "name": "stdout",
          "text": [
            "Enter a secure key (at least 8 characters): ··········\n",
            "\n",
            "Encrypting the secure key...\n",
            "Enter a secondary password to encrypt the key: ··········\n",
            "Secure key successfully encrypted.\n",
            "Enter the secret message to embed: hii\n",
            "\n",
            "The secret message has been successfully embedded.\n",
            "\n",
            "Share the following encrypted key with the receiver:\n",
            "gAAAAABn3kPQYsPoSBUicAT9wtSiVGIEZWPFEB5rZAMARbQFXr31CADvRIZgOBGdAZ6KlAJOzFobFA-8pdZeXbhQGMEtP9YMSiYgzP5yE3clTue60jb1DCcTt2ZxmpT3twirLs-cvQ-F\n",
            "\n",
            "Share the secondary password via a secure channel for decryption.\n",
            "\n",
            "The modified images folder has been zipped. Download it from: /content\n"
          ]
        }
      ],
      "source": [
        "import os\n",
        "import random\n",
        "import base64\n",
        "import getpass\n",
        "from cryptography.fernet import Fernet, InvalidToken\n",
        "from stegano import lsb\n",
        "from PIL import Image\n",
        "import shutil\n",
        "\n",
        "# Function to create a valid encryption key from input\n",
        "def create_key_from_input(user_key):\n",
        "    key_bytes = user_key.encode()\n",
        "    padded_key = base64.urlsafe_b64encode(key_bytes.ljust(32)[:32])\n",
        "    return padded_key\n",
        "\n",
        "# Function to encrypt a message\n",
        "def encrypt_message(secret_key, message):\n",
        "    cipher_suite = Fernet(secret_key)\n",
        "    return cipher_suite.encrypt(message.encode())\n",
        "\n",
        "# Function to decrypt a message\n",
        "def decrypt_message(secret_key, encrypted_message):\n",
        "    cipher_suite = Fernet(secret_key)\n",
        "    return cipher_suite.decrypt(encrypted_message).decode()\n",
        "\n",
        "# Function to convert any image format to PNG (required by LSB stegano)\n",
        "def convert_to_png(image_path, output_path):\n",
        "    with Image.open(image_path) as img:\n",
        "        img = img.convert(\"RGB\")\n",
        "        img.save(output_path, \"PNG\")\n",
        "\n",
        "# Function to embed a message in an image\n",
        "def embed_message(image_path, encrypted_message, output_path):\n",
        "    temp_image_path = os.path.splitext(output_path)[0] + \"_temp.png\"\n",
        "    convert_to_png(image_path, temp_image_path)\n",
        "    hidden_image = lsb.hide(temp_image_path, encrypted_message.decode())\n",
        "    hidden_image.save(output_path)\n",
        "    os.remove(temp_image_path)\n",
        "\n",
        "# Function to extract a hidden message from an image\n",
        "def extract_message(image_path):\n",
        "    try:\n",
        "        return lsb.reveal(image_path)\n",
        "    except Exception:\n",
        "        return None\n",
        "\n",
        "# Function to encrypt the secure key with a secondary password\n",
        "def encrypt_secure_key(secure_key):\n",
        "    print(\"\\nEncrypting the secure key...\")\n",
        "    secondary_password = getpass.getpass(\"Enter a secondary password to encrypt the key: \").strip()\n",
        "    if len(secondary_password) < 8:\n",
        "        print(\"The password must be at least 8 characters long.\")\n",
        "        return None\n",
        "    encryption_key = create_key_from_input(secondary_password)\n",
        "    encrypted_key = encrypt_message(encryption_key, secure_key)\n",
        "    print(\"Secure key successfully encrypted.\")\n",
        "    return encrypted_key, secondary_password\n",
        "\n",
        "# Function to decrypt the secure key with a secondary password\n",
        "def decrypt_secure_key(encrypted_key):\n",
        "    print(\"\\nDecrypting the secure key...\")\n",
        "    secondary_password = getpass.getpass(\"Enter the secondary password to decrypt the key: \").strip()\n",
        "    if len(secondary_password) < 8:\n",
        "        print(\"The password must be at least 8 characters long.\")\n",
        "        return None\n",
        "    encryption_key = create_key_from_input(secondary_password)\n",
        "    try:\n",
        "        decrypted_key = decrypt_message(encryption_key, encrypted_key)\n",
        "        print(\"Secure key successfully decrypted.\")\n",
        "        return decrypted_key\n",
        "    except InvalidToken:\n",
        "        print(\"Incorrect password. Unable to decrypt the secure key.\")\n",
        "        return None\n",
        "\n",
        "# Main function for embedding a secret message\n",
        "def main():\n",
        "    # Directory containing images\n",
        "    images_folder = \"/content/drive/MyDrive/pushpa\"\n",
        "    image_paths = [os.path.join(images_folder, file) for file in os.listdir(images_folder) if file.lower().endswith(('.png', '.jpg', '.jpeg', '.bmp', '.tiff'))]\n",
        "    if len(image_paths) < 1:\n",
        "        print(\"No images found in the 'images' directory. Add images to proceed.\")\n",
        "        return\n",
        "\n",
        "    # Select a random image from the directory\n",
        "    selected_image_path = random.choice(image_paths)\n",
        "\n",
        "    # Prompt the user for a secure key\n",
        "    user_key = getpass.getpass(\"Enter a secure key (at least 8 characters): \").strip()\n",
        "    if len(user_key) < 8:\n",
        "        print(\"The key must be at least 8 characters long.\")\n",
        "        return\n",
        "    secure_key = create_key_from_input(user_key)\n",
        "\n",
        "    # Encrypt the secure key with a secondary password\n",
        "    encrypted_key, secondary_password = encrypt_secure_key(secure_key.decode())\n",
        "    if not encrypted_key:\n",
        "        return\n",
        "\n",
        "    # Prompt the user to enter the secret message\n",
        "    secret_message = input(\"Enter the secret message to embed: \").strip()\n",
        "    if not secret_message:\n",
        "        print(\"The secret message cannot be empty.\")\n",
        "        return\n",
        "\n",
        "    # Encrypt the secret message\n",
        "    encrypted_message = encrypt_message(secure_key, secret_message)\n",
        "\n",
        "    # Embed the message into the selected image\n",
        "    temp_output_path = os.path.splitext(selected_image_path)[0] + \"_temp.png\"\n",
        "    embed_message(selected_image_path, encrypted_message, temp_output_path)\n",
        "\n",
        "    # Replace the original image with the modified one\n",
        "    os.remove(selected_image_path)\n",
        "    os.rename(temp_output_path, selected_image_path)\n",
        "\n",
        "    # Create a zip file of the images folder for download\n",
        "    output_zip_path = \"/content\"\n",
        "    shutil.make_archive(os.path.splitext(output_zip_path)[0], 'zip', images_folder)\n",
        "\n",
        "    print(\"\\nThe secret message has been successfully embedded.\")\n",
        "    print(\"\\nShare the following encrypted key with the receiver:\")\n",
        "    print(encrypted_key.decode())\n",
        "    print(\"\\nShare the secondary password via a secure channel for decryption.\")\n",
        "    print(f\"\\nThe modified images folder has been zipped. Download it from: {output_zip_path}\")\n",
        "\n",
        "if __name__ == \"__main__\":\n",
        "    main()\n"
      ]
    },
    {
      "cell_type": "code",
      "execution_count": null,
      "id": "17e593f0-7a97-4cc1-bcb7-d6e8242890d7",
      "metadata": {
        "id": "17e593f0-7a97-4cc1-bcb7-d6e8242890d7"
      },
      "outputs": [],
      "source": []
    },
    {
      "cell_type": "code",
      "execution_count": null,
      "id": "d7a64a83-0819-4070-9841-723210a3c6f0",
      "metadata": {
        "id": "d7a64a83-0819-4070-9841-723210a3c6f0"
      },
      "outputs": [],
      "source": []
    },
    {
      "cell_type": "code",
      "execution_count": null,
      "id": "c898af27-878e-4653-9d85-fa709f53f139",
      "metadata": {
        "id": "c898af27-878e-4653-9d85-fa709f53f139"
      },
      "outputs": [],
      "source": []
    },
    {
      "cell_type": "code",
      "execution_count": null,
      "id": "625da256-84ae-45ca-b246-90ebf1087a6c",
      "metadata": {
        "id": "625da256-84ae-45ca-b246-90ebf1087a6c"
      },
      "outputs": [],
      "source": []
    },
    {
      "cell_type": "code",
      "execution_count": null,
      "id": "65063b17-de95-45c4-9d55-d0f41a2e96f5",
      "metadata": {
        "id": "65063b17-de95-45c4-9d55-d0f41a2e96f5"
      },
      "outputs": [],
      "source": []
    },
    {
      "cell_type": "code",
      "execution_count": null,
      "id": "bdbc92dc-64f8-46f3-99e4-6b54d0f4432e",
      "metadata": {
        "id": "bdbc92dc-64f8-46f3-99e4-6b54d0f4432e"
      },
      "outputs": [],
      "source": []
    }
  ],
  "metadata": {
    "colab": {
      "provenance": []
    },
    "kernelspec": {
      "display_name": "Python 3 (ipykernel)",
      "language": "python",
      "name": "python3"
    },
    "language_info": {
      "codemirror_mode": {
        "name": "ipython",
        "version": 3
      },
      "file_extension": ".py",
      "mimetype": "text/x-python",
      "name": "python",
      "nbconvert_exporter": "python",
      "pygments_lexer": "ipython3",
      "version": "3.12.3"
    }
  },
  "nbformat": 4,
  "nbformat_minor": 5
}